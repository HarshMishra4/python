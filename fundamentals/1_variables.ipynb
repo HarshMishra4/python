{
 "cells": [
  {
   "cell_type": "markdown",
   "metadata": {},
   "source": [
    "# Variable"
   ]
  },
  {
   "cell_type": "markdown",
   "metadata": {},
   "source": [
    "### What is a Variable ?\n",
    "Variable stores a value in it so that it can be referred further from any part of the program.\n",
    "\n",
    "- We can give any meaning-full to define our variable\n",
    "- Note that we cannot use those keyword that are pre-defined by Python as our variable name.\n",
    "- Our variable name cannot start with and number [0-9]\n",
    "Example : 3a = \"aaa\" (this is not allowed)"
   ]
  },
  {
   "cell_type": "code",
   "execution_count": 1,
   "metadata": {},
   "outputs": [
    {
     "name": "stdout",
     "output_type": "stream",
     "text": [
      "25\n"
     ]
    }
   ],
   "source": [
    "# Storing an integer value in a variable [number]\n",
    "number = 25\n",
    "print(number)"
   ]
  },
  {
   "cell_type": "code",
   "execution_count": 2,
   "metadata": {},
   "outputs": [
    {
     "name": "stdout",
     "output_type": "stream",
     "text": [
      "3.98\n"
     ]
    }
   ],
   "source": [
    "# Storing an float value in a variable [number]\n",
    "number = 3.98\n",
    "print(number)"
   ]
  },
  {
   "cell_type": "code",
   "execution_count": 3,
   "metadata": {},
   "outputs": [
    {
     "name": "stdout",
     "output_type": "stream",
     "text": [
      "Harsh\n"
     ]
    }
   ],
   "source": [
    "# Storing an string value in a variable [name]\n",
    "name = \"Harsh\"\n",
    "print(name)"
   ]
  },
  {
   "cell_type": "code",
   "execution_count": 4,
   "metadata": {},
   "outputs": [
    {
     "name": "stdout",
     "output_type": "stream",
     "text": [
      "['Milk', 'Bread', 'Jam', 'Chocolate']\n"
     ]
    }
   ],
   "source": [
    "# Storing an list values in a variable [shopping_list]\n",
    "shopping_list = [\n",
    "    \"Milk\",\n",
    "    \"Bread\",\n",
    "    \"Jam\",\n",
    "    \"Chocolate\"\n",
    "]\n",
    "print(shopping_list)"
   ]
  }
 ],
 "metadata": {
  "interpreter": {
   "hash": "c4bb627c720bb325833297a37a3d07f2918af932b8d8e89a0df48100a492cd0a"
  },
  "kernelspec": {
   "display_name": "Python 3.10.4 64-bit",
   "language": "python",
   "name": "python3"
  },
  "language_info": {
   "codemirror_mode": {
    "name": "ipython",
    "version": 3
   },
   "file_extension": ".py",
   "mimetype": "text/x-python",
   "name": "python",
   "nbconvert_exporter": "python",
   "pygments_lexer": "ipython3",
   "version": "3.10.4"
  },
  "orig_nbformat": 4
 },
 "nbformat": 4,
 "nbformat_minor": 2
}
