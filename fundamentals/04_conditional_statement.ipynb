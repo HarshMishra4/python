{
 "cells": [
  {
   "cell_type": "markdown",
   "metadata": {},
   "source": [
    "## <center> Conditional Statements </center>"
   ]
  },
  {
   "cell_type": "markdown",
   "metadata": {},
   "source": [
    "- IF Statement\n",
    "- IF Else Statements\n",
    "- IF Elif Statements\n",
    "- Nested-If-Else Statements"
   ]
  },
  {
   "cell_type": "markdown",
   "metadata": {},
   "source": [
    "### IF Statement"
   ]
  },
  {
   "cell_type": "code",
   "execution_count": 3,
   "metadata": {},
   "outputs": [
    {
     "name": "stdout",
     "output_type": "stream",
     "text": [
      "It's a divisible of 4\n",
      "Program completed......\n"
     ]
    }
   ],
   "source": [
    "number = 36\n",
    "\n",
    "if number % 4 == 0:\n",
    "    print(\"It's a divisible of 4\")\n",
    "\n",
    "print(\"Program completed......\")"
   ]
  },
  {
   "cell_type": "markdown",
   "metadata": {},
   "source": [
    "### IF-ELSE Statement"
   ]
  },
  {
   "cell_type": "code",
   "execution_count": 9,
   "metadata": {},
   "outputs": [
    {
     "name": "stdout",
     "output_type": "stream",
     "text": [
      "78 is a positive number\n"
     ]
    }
   ],
   "source": [
    "number = 78\n",
    "\n",
    "if number < 0:\n",
    "    print(f\"{number} is a negetive number\")\n",
    "else:\n",
    "    print(f\"{number} is a positive number\")"
   ]
  },
  {
   "cell_type": "markdown",
   "metadata": {},
   "source": [
    "### IF-ELIF Statement"
   ]
  },
  {
   "cell_type": "code",
   "execution_count": 4,
   "metadata": {},
   "outputs": [
    {
     "name": "stdout",
     "output_type": "stream",
     "text": [
      "77 is invalid number\n"
     ]
    }
   ],
   "source": [
    "number = 77\n",
    "\n",
    "if number % 2 == 0:\n",
    "    print(f\"{number} is divisible of 2\")\n",
    "elif number % 3 == 0:\n",
    "    print(f\"{number} is divisible of 3\")\n",
    "else:\n",
    "    print(f\"{number} is invalid number\")"
   ]
  },
  {
   "cell_type": "code",
   "execution_count": 7,
   "metadata": {},
   "outputs": [
    {
     "name": "stdout",
     "output_type": "stream",
     "text": [
      "Invalid Password\n"
     ]
    }
   ],
   "source": [
    "username = \"Harsh\"\n",
    "password = \"12346\"\n",
    "\n",
    "if username == \"Harsh\":\n",
    "    if password == \"1234\":\n",
    "        print(\"Welcome User\")\n",
    "    else:\n",
    "        print(\"Invalid Password\") \n",
    "else:\n",
    "    print(\"Invalid Username\")"
   ]
  },
  {
   "cell_type": "code",
   "execution_count": 8,
   "metadata": {},
   "outputs": [
    {
     "name": "stdout",
     "output_type": "stream",
     "text": [
      "Invalid username or Password\n"
     ]
    }
   ],
   "source": [
    "# 2nd ways\n",
    "if username == \"Harsh\" and password == \"1234\":\n",
    "    print(\"Welcome User\")\n",
    "else:\n",
    "    print(\"Invalid username or Password\")"
   ]
  }
 ],
 "metadata": {
  "interpreter": {
   "hash": "34606d5b0674d1ecf37ae0942e0339c9c351e414368f881cab2da2dde4b0ce2b"
  },
  "kernelspec": {
   "display_name": "Python 3.10.4 64-bit",
   "language": "python",
   "name": "python3"
  },
  "language_info": {
   "codemirror_mode": {
    "name": "ipython",
    "version": 3
   },
   "file_extension": ".py",
   "mimetype": "text/x-python",
   "name": "python",
   "nbconvert_exporter": "python",
   "pygments_lexer": "ipython3",
   "version": "3.10.4"
  },
  "orig_nbformat": 4
 },
 "nbformat": 4,
 "nbformat_minor": 2
}
